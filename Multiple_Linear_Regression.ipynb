{
  "nbformat": 4,
  "nbformat_minor": 0,
  "metadata": {
    "colab": {
      "name": "Multiple Linear Regression",
      "provenance": [],
      "collapsed_sections": [],
      "authorship_tag": "ABX9TyMnctxVuISW1pbYxgX4/Xtd",
      "include_colab_link": true
    },
    "kernelspec": {
      "name": "python3",
      "display_name": "Python 3"
    },
    "language_info": {
      "name": "python"
    }
  },
  "cells": [
    {
      "cell_type": "markdown",
      "metadata": {
        "id": "view-in-github",
        "colab_type": "text"
      },
      "source": [
        "<a href=\"https://colab.research.google.com/github/ank090/Startup_Investment/blob/main/Multiple_Linear_Regression.ipynb\" target=\"_parent\"><img src=\"https://colab.research.google.com/assets/colab-badge.svg\" alt=\"Open In Colab\"/></a>"
      ]
    },
    {
      "cell_type": "markdown",
      "metadata": {
        "id": "q7l__Zbwh6Y3"
      },
      "source": [
        "# **Importing Libraries**"
      ]
    },
    {
      "cell_type": "code",
      "metadata": {
        "id": "wfv3kLLIiFbq"
      },
      "source": [
        "import numpy as np\n",
        "import pandas as pd\n",
        "import matplotlib.pyplot as plt\n",
        "from sklearn.model_selection import train_test_split\n",
        "from sklearn.preprocessing import OneHotEncoder\n",
        "from sklearn.compose import ColumnTransformer\n",
        "from sklearn.linear_model import LinearRegression"
      ],
      "execution_count": null,
      "outputs": []
    },
    {
      "cell_type": "markdown",
      "metadata": {
        "id": "2J3JsuLApy5z"
      },
      "source": [
        "# **Importing Dataset**"
      ]
    },
    {
      "cell_type": "code",
      "metadata": {
        "id": "9P2ascvWp7Ui"
      },
      "source": [
        "dataset=pd.read_csv(\"50_Startups.csv\")\n",
        "x=dataset.iloc[:,:-1].values\n",
        "y=dataset.iloc[:,-1].values"
      ],
      "execution_count": null,
      "outputs": []
    },
    {
      "cell_type": "markdown",
      "metadata": {
        "id": "dh1jAVZDHBZx"
      },
      "source": [
        "# **Encoding Catgorical data**"
      ]
    },
    {
      "cell_type": "code",
      "metadata": {
        "id": "6fZMOx69HHAY"
      },
      "source": [
        "ct=ColumnTransformer(transformers=[('encoder',OneHotEncoder(),[3])],remainder='passthrough')\n",
        "x=np.array(ct.fit_transform(x))"
      ],
      "execution_count": null,
      "outputs": []
    },
    {
      "cell_type": "markdown",
      "metadata": {
        "id": "fL3r3f3gr3dZ"
      },
      "source": [
        "# **Splitting dataset in to trainning and test cases**"
      ]
    },
    {
      "cell_type": "code",
      "metadata": {
        "id": "XpvEufGBsALq"
      },
      "source": [
        "xtrain,xtest,ytrain,ytest=train_test_split(x,y,test_size=0.2,random_state=0)"
      ],
      "execution_count": null,
      "outputs": []
    },
    {
      "cell_type": "markdown",
      "metadata": {
        "id": "tOMJfJ4SLCkG"
      },
      "source": [
        "# **Training MLR model on training set**"
      ]
    },
    {
      "cell_type": "code",
      "metadata": {
        "colab": {
          "base_uri": "https://localhost:8080/"
        },
        "id": "t1WxpRQYLMor",
        "outputId": "4549b319-ced6-4612-a533-07df2ddfa429"
      },
      "source": [
        "mlr=LinearRegression()\n",
        "mlr.fit(xtrain,ytrain)"
      ],
      "execution_count": null,
      "outputs": [
        {
          "output_type": "execute_result",
          "data": {
            "text/plain": [
              "LinearRegression(copy_X=True, fit_intercept=True, n_jobs=None, normalize=False)"
            ]
          },
          "metadata": {},
          "execution_count": 8
        }
      ]
    },
    {
      "cell_type": "markdown",
      "metadata": {
        "id": "208qI8fAMJAR"
      },
      "source": [
        "# **Predicting the test set result**"
      ]
    },
    {
      "cell_type": "code",
      "metadata": {
        "id": "V-zHdlL8MSOh"
      },
      "source": [
        "ypred=mlr.predict(xtest)\n",
        "np.set_printoptions(precision=2)\n",
        "print(\"predicted VS orignal\")\n",
        "print(np.concatenate((ypred.reshape(len(ypred),1),ytest.reshape(len(ytest),1)),1))"
      ],
      "execution_count": null,
      "outputs": []
    }
  ]
}