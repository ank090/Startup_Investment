{
  "nbformat": 4,
  "nbformat_minor": 0,
  "metadata": {
    "colab": {
      "name": "Data Pre Processing .ipynb",
      "provenance": [],
      "collapsed_sections": []
    },
    "kernelspec": {
      "name": "python3",
      "display_name": "Python 3"
    },
    "language_info": {
      "name": "python"
    }
  },
  "cells": [
    {
      "cell_type": "markdown",
      "metadata": {
        "id": "Ry83hWuERUY6"
      },
      "source": [
        "# New Section"
      ]
    },
    {
      "cell_type": "markdown",
      "metadata": {
        "id": "ppsY3JPsRVkG"
      },
      "source": [
        "## **Importing Libraries**"
      ]
    },
    {
      "cell_type": "code",
      "metadata": {
        "id": "jn1ELK8VRfaS"
      },
      "source": [
        "import pandas as pd\n",
        "import numpy as np\n",
        "import matplotlib as plt\n",
        "from sklearn.impute import SimpleImputer\n",
        "from sklearn.compose import ColumnTransformer\n",
        "from sklearn.preprocessing import OneHotEncoder\n",
        "from sklearn.preprocessing import LabelEncoder\n",
        "from sklearn.model_selection import train_test_split\n",
        "from sklearn.preprocessing import StandardScaler"
      ],
      "execution_count": null,
      "outputs": []
    },
    {
      "cell_type": "markdown",
      "metadata": {
        "id": "d5C9pC5TSI2i"
      },
      "source": [
        "# **Importing dataset**"
      ]
    },
    {
      "cell_type": "code",
      "metadata": {
        "id": "ETzAH7-_SWxX",
        "cellView": "code",
        "colab": {
          "base_uri": "https://localhost:8080/"
        },
        "outputId": "a65f7a44-b745-47d5-f5e9-cc92918254b8"
      },
      "source": [
        "#@title Default title text\n",
        "dataset=pd.read_csv(\"Data.csv\")\n",
        "indep=dataset.iloc[:,:-1].values\n",
        "dep=dataset.iloc[:,-1].values\n",
        "print(dep)"
      ],
      "execution_count": null,
      "outputs": [
        {
          "output_type": "stream",
          "name": "stdout",
          "text": [
            "['No' 'Yes' 'No' 'No' 'Yes' 'Yes' 'No' 'Yes' 'No' 'Yes']\n"
          ]
        }
      ]
    },
    {
      "cell_type": "markdown",
      "metadata": {
        "id": "wJ8cre-eWe1A"
      },
      "source": [
        "## **Taking care of missing data**"
      ]
    },
    {
      "cell_type": "code",
      "metadata": {
        "id": "pPGmlyZdWqOU",
        "colab": {
          "base_uri": "https://localhost:8080/"
        },
        "outputId": "d42c1a99-6c77-4090-ad07-916582aeeec6"
      },
      "source": [
        "imputer=SimpleImputer(missing_values=np.nan,strategy=\"mean\")\n",
        "imputer.fit(indep[:,1:3])\n",
        "indep[:,1:3]=imputer.transform(indep[:,1:3])\n",
        "print(indep)"
      ],
      "execution_count": null,
      "outputs": [
        {
          "output_type": "stream",
          "name": "stdout",
          "text": [
            "[['France' 44.0 72000.0]\n",
            " ['Spain' 27.0 48000.0]\n",
            " ['Germany' 30.0 54000.0]\n",
            " ['Spain' 38.0 61000.0]\n",
            " ['Germany' 40.0 63777.77777777778]\n",
            " ['France' 35.0 58000.0]\n",
            " ['Spain' 38.77777777777778 52000.0]\n",
            " ['France' 48.0 79000.0]\n",
            " ['Germany' 50.0 83000.0]\n",
            " ['France' 37.0 67000.0]]\n"
          ]
        }
      ]
    },
    {
      "cell_type": "markdown",
      "metadata": {
        "id": "E62sD0V4Z_06"
      },
      "source": [
        "## Encode Categorical data"
      ]
    },
    {
      "cell_type": "code",
      "metadata": {
        "id": "ujgkXH0taEny",
        "colab": {
          "base_uri": "https://localhost:8080/"
        },
        "outputId": "9186ca36-52de-4bc9-c417-a7ba74278b45"
      },
      "source": [
        "ct=ColumnTransformer(transformers=[(\"encoder\",OneHotEncoder(),[0])],remainder=\"passthrough\")\n",
        "indep=np.array(ct.fit_transform(indep))\n",
        "print(indep)"
      ],
      "execution_count": null,
      "outputs": [
        {
          "output_type": "stream",
          "name": "stdout",
          "text": [
            "[[1.0 0.0 0.0 44.0 72000.0]\n",
            " [0.0 0.0 1.0 27.0 48000.0]\n",
            " [0.0 1.0 0.0 30.0 54000.0]\n",
            " [0.0 0.0 1.0 38.0 61000.0]\n",
            " [0.0 1.0 0.0 40.0 63777.77777777778]\n",
            " [1.0 0.0 0.0 35.0 58000.0]\n",
            " [0.0 0.0 1.0 38.77777777777778 52000.0]\n",
            " [1.0 0.0 0.0 48.0 79000.0]\n",
            " [0.0 1.0 0.0 50.0 83000.0]\n",
            " [1.0 0.0 0.0 37.0 67000.0]]\n"
          ]
        }
      ]
    },
    {
      "cell_type": "markdown",
      "metadata": {
        "id": "IFAxonFBfCox"
      },
      "source": [
        ""
      ]
    },
    {
      "cell_type": "code",
      "metadata": {
        "id": "UyK3N8nlfn7B",
        "colab": {
          "base_uri": "https://localhost:8080/"
        },
        "outputId": "7dc108a8-818b-4f84-99d2-4bfc723a61a3"
      },
      "source": [
        "le=LabelEncoder()\n",
        "dep=le.fit_transform(dep)\n",
        "print(dep)"
      ],
      "execution_count": null,
      "outputs": [
        {
          "output_type": "stream",
          "name": "stdout",
          "text": [
            "[0 1 0 0 1 1 0 1 0 1]\n"
          ]
        }
      ]
    },
    {
      "cell_type": "markdown",
      "metadata": {
        "id": "oQJA1axAgZ3M"
      },
      "source": [
        "## **Splitting data into trainning and testing set**"
      ]
    },
    {
      "cell_type": "code",
      "metadata": {
        "id": "iDzwLZZqgozj"
      },
      "source": [
        "indep_train,indep_test,dep_train,dep_test=train_test_split(indep,dep,test_size=0.2,random_state=1)"
      ],
      "execution_count": null,
      "outputs": []
    },
    {
      "cell_type": "markdown",
      "metadata": {
        "id": "YvuhN59EjzMT"
      },
      "source": [
        "# **Feature Scaling**"
      ]
    },
    {
      "cell_type": "code",
      "metadata": {
        "id": "4S-LZbWBj9Jx",
        "colab": {
          "base_uri": "https://localhost:8080/"
        },
        "outputId": "685d2ff3-1801-4d14-ca15-a86588117ef7"
      },
      "source": [
        "sc=StandardScaler()\n",
        "indep_train[:,3:]=sc.fit_transform(indep_train[:,3:])\n",
        "indep_test[:,3:]=sc.transform(indep_test[:,3:])\n",
        "print(indep_train)"
      ],
      "execution_count": null,
      "outputs": [
        {
          "output_type": "stream",
          "name": "stdout",
          "text": [
            "[[0.0 0.0 1.0 -0.19159184384578545 -1.0781259408412425]\n",
            " [0.0 1.0 0.0 -0.014117293757057777 -0.07013167641635372]\n",
            " [1.0 0.0 0.0 0.566708506533324 0.633562432710455]\n",
            " [0.0 0.0 1.0 -0.30453019390224867 -0.30786617274297867]\n",
            " [0.0 0.0 1.0 -1.9018011447007988 -1.420463615551582]\n",
            " [1.0 0.0 0.0 1.1475343068237058 1.232653363453549]\n",
            " [0.0 1.0 0.0 1.4379472069688968 1.5749910381638885]\n",
            " [1.0 0.0 0.0 -0.7401495441200351 -0.5646194287757332]]\n"
          ]
        }
      ]
    }
  ]
}